{
 "cells": [
  {
   "cell_type": "code",
   "execution_count": 1,
   "metadata": {},
   "outputs": [],
   "source": [
    "#program to calculate the area of a triangle, usig the length of its sides\n",
    "#s1,s2 and s3 represnts the lenght of the sides of the triangle"
   ]
  },
  {
   "cell_type": "code",
   "execution_count": 7,
   "metadata": {},
   "outputs": [
    {
     "name": "stdout",
     "output_type": "stream",
     "text": [
      "the length of the first side is:9\n",
      "the length of the second side is:6\n",
      "the length of the third side is:4\n",
      "9.5\n",
      "the area of the triangle is 9.56229574945264\n"
     ]
    }
   ],
   "source": [
    "s1 =int(input(\"the length of the first side is:\"))\n",
    "s2 = int(input(\"the length of the second side is:\"))\n",
    "s3 =int(input(\"the length of the third side is:\"))\n",
    "s =((s1+s2+s3)/2)\n",
    "print(s)\n",
    "\n",
    "area_of_triangle = (s*(s-s1)*(s-s2)*(s-s3))**0.5\n",
    "print(\"the area of the triangle is\",area_of_triangle)"
   ]
  },
  {
   "cell_type": "code",
   "execution_count": 8,
   "metadata": {},
   "outputs": [],
   "source": [
    "#converting temperatures"
   ]
  },
  {
   "cell_type": "code",
   "execution_count": 11,
   "metadata": {},
   "outputs": [
    {
     "name": "stdout",
     "output_type": "stream",
     "text": [
      "what is the temperature in degree celcius 210\n",
      "210 in degree farenheit is: 410.0 F\n",
      "210 in Kelvin is: 483 K\n"
     ]
    }
   ],
   "source": [
    "temp_c = int(input(\"what is the temperature in degree celcius \"))\n",
    "temp_f =(temp_c * (9/5))+ 32\n",
    "temp_k = temp_c+273\n",
    "\n",
    "print(temp_c ,\"in degree farenheit is:\",temp_f,\"F\")\n",
    "print(temp_c ,\"in Kelvin is:\",temp_k,\"K\")"
   ]
  },
  {
   "cell_type": "code",
   "execution_count": null,
   "metadata": {},
   "outputs": [],
   "source": []
  },
  {
   "cell_type": "code",
   "execution_count": 12,
   "metadata": {},
   "outputs": [],
   "source": [
    "#program to determine even or odd integer"
   ]
  },
  {
   "cell_type": "code",
   "execution_count": 13,
   "metadata": {},
   "outputs": [
    {
     "name": "stdout",
     "output_type": "stream",
     "text": [
      "Enter the integer:5\n",
      "the integer is an odd integer\n"
     ]
    }
   ],
   "source": [
    "num = int(input(\"Enter the integer:\"))\n",
    "if num%2 == 0:\n",
    "    print(\"the number is an even integer\")\n",
    "else:\n",
    "    print(\"the integer is an odd integer\")"
   ]
  },
  {
   "cell_type": "code",
   "execution_count": null,
   "metadata": {},
   "outputs": [],
   "source": []
  },
  {
   "cell_type": "code",
   "execution_count": 14,
   "metadata": {},
   "outputs": [],
   "source": [
    "#program to determine the name of a sape from its number of sides"
   ]
  },
  {
   "cell_type": "code",
   "execution_count": 21,
   "metadata": {},
   "outputs": [
    {
     "name": "stdout",
     "output_type": "stream",
     "text": [
      "enter the number of sides 13\n",
      "shape not included\n"
     ]
    }
   ],
   "source": [
    "num_of_sides = int(input(\"enter the number of sides \"))\n",
    "if num_of_sides==3:\n",
    "    print(\"a triangle\")\n",
    "elif  num_of_sides==4:\n",
    "    print(\"a quadrilateral\")\n",
    "elif num_of_sides==5:\n",
    "    print(\"pentagon\")\n",
    "elif num_of_sides==6:\n",
    "    print(\"a hexagon\")\n",
    "elif num_of_sides==7:\n",
    "    print(\"a heptagon\")\n",
    "elif num_of_sides==8:\n",
    "    print(\"a octagon\")\n",
    "elif num_of_sides==9:\n",
    "    print(\"a nonnagon\")\n",
    "elif num_of_sides==10:\n",
    "    print(\"a decagon\")\n",
    "else:\n",
    "    print(\"shape not included\")"
   ]
  },
  {
   "cell_type": "code",
   "execution_count": null,
   "metadata": {},
   "outputs": [],
   "source": []
  },
  {
   "cell_type": "code",
   "execution_count": 20,
   "metadata": {},
   "outputs": [],
   "source": [
    "#program to name triangle based on number of sides"
   ]
  },
  {
   "cell_type": "code",
   "execution_count": 23,
   "metadata": {},
   "outputs": [
    {
     "name": "stdout",
     "output_type": "stream",
     "text": [
      "enter lenth of triangle3\n",
      "an equilateral triangle\n"
     ]
    }
   ],
   "source": [
    "triangle_length=int(input(\"enter lenth of triangle\"))\n",
    "if triangle_length==3:\n",
    "    print(\"an equilateral triangle\")\n",
    "elif triangle_length==2:\n",
    "    print(\"an iscosceles triangle\")\n",
    "elif triangle_length==1:\n",
    "    print(\"a ascalene traiangle\")\n",
    "else:\n",
    "    print(\"shape is not a traingle\")\n"
   ]
  },
  {
   "cell_type": "code",
   "execution_count": null,
   "metadata": {},
   "outputs": [],
   "source": [
    "pr"
   ]
  }
 ],
 "metadata": {
  "kernelspec": {
   "display_name": "Python 3",
   "language": "python",
   "name": "python3"
  },
  "language_info": {
   "codemirror_mode": {
    "name": "ipython",
    "version": 3
   },
   "file_extension": ".py",
   "mimetype": "text/x-python",
   "name": "python",
   "nbconvert_exporter": "python",
   "pygments_lexer": "ipython3",
   "version": "3.7.6"
  }
 },
 "nbformat": 4,
 "nbformat_minor": 4
}
