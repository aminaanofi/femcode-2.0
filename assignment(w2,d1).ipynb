{
 "cells": [
  {
   "cell_type": "code",
   "execution_count": 5,
   "metadata": {},
   "outputs": [
    {
     "name": "stdout",
     "output_type": "stream",
     "text": [
      "hey there!,Input your age: 2\n",
      "hey there!,Input your age: 3\n",
      "hey there!,Input your age: 4\n",
      "hey there!,Input your age: 5\n",
      "hey there!,Input your age: 7\n",
      "hey there!,Input your age: 8\n",
      "hey there!,Input your age: 9\n",
      "hey there!,Input your age: 18\n",
      "hey there!,Input your age: 19\n",
      "hey there!,Input your age: 21\n",
      "the sum of the ages greater than 18 is :58\n"
     ]
    }
   ],
   "source": [
    "# program that takes in ages of 10 persons and sums the ages greater than 18\n",
    "sum_=0\n",
    "for i in range(10):\n",
    "    age=int(input(\"hey there!,Input your age: \"))\n",
    "    if age>=18:\n",
    "        sum_=sum_+age\n",
    "print(f\"the sum of the ages greater than 18 is :{sum_}\")"
   ]
  },
  {
   "cell_type": "code",
   "execution_count": 10,
   "metadata": {},
   "outputs": [
    {
     "name": "stdout",
     "output_type": "stream",
     "text": [
      "enter a number :5\n",
      "the factorial of 5 is 120\n"
     ]
    }
   ],
   "source": [
    "#program to calculate the factorial of any number..n!=n*(n-1)*(n-2).....*(N)\n",
    "num=int(input(\"enter a number :\")) \n",
    "factorial=1\n",
    "if num<0:\n",
    "    print(\"sorry factorial does not exist for negative numbers\")\n",
    "elif num==0:\n",
    "    print(\"the factorial of zero is zero\")\n",
    "else:\n",
    "    for i in range(1,num+1):\n",
    "        factorial=factorial*i\n",
    "print(f\"the factorial of {num} is {factorial}\")"
   ]
  },
  {
   "cell_type": "code",
   "execution_count": null,
   "metadata": {},
   "outputs": [],
   "source": []
  }
 ],
 "metadata": {
  "kernelspec": {
   "display_name": "Python 3",
   "language": "python",
   "name": "python3"
  },
  "language_info": {
   "codemirror_mode": {
    "name": "ipython",
    "version": 3
   },
   "file_extension": ".py",
   "mimetype": "text/x-python",
   "name": "python",
   "nbconvert_exporter": "python",
   "pygments_lexer": "ipython3",
   "version": "3.7.6"
  }
 },
 "nbformat": 4,
 "nbformat_minor": 4
}
