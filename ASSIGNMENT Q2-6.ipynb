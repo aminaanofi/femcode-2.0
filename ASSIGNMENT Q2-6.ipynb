{
 "cells": [
  {
   "cell_type": "code",
   "execution_count": null,
   "metadata": {},
   "outputs": [],
   "source": [
    "#2\n",
    "Name =input(\"Enter your name here: \")\n",
    "print(\"hello \",Name, \",welcome to fempython 2.0\")"
   ]
  },
  {
   "cell_type": "code",
   "execution_count": null,
   "metadata": {},
   "outputs": [],
   "source": [
    "#3\n",
    "width_of_room=float(input(\"what is the width of the room? \"))\n",
    "length_Of_room=float(input(\"what is te length of the room? \"))\n",
    "Area_of_room=width_of_room * length_Of_room\n",
    "print(\"Area of room is \", Area_of_room,\"ft\")"
   ]
  },
  {
   "cell_type": "code",
   "execution_count": null,
   "metadata": {},
   "outputs": [],
   "source": [
    "#4\n",
    "length = float(input(\"enter the length of the field in ft\"))\n",
    "width = float(input(\"eneter the width of the field in ft\"))\n",
    "area_of_field=(length*width)\n",
    "#converting feet to acre ,multiply bt the standard 43560...i.e 43560 feet make an acre\n",
    "area_of_field=(length*width)*43560\n",
    "print(\"area of the field is \", area_of_field,\"acre\")"
   ]
  },
  {
   "cell_type": "code",
   "execution_count": null,
   "metadata": {},
   "outputs": [],
   "source": [
    "#5\n",
    "def "
   ]
  },
  {
   "cell_type": "code",
   "execution_count": 12,
   "metadata": {},
   "outputs": [
    {
     "name": "stdout",
     "output_type": "stream",
     "text": [
      "how much does your meal cost in dollar? 40\n",
      "the tax ,tip and grant total for your meal is 4.0$ ,7.199999999999999$ and 51.2$\n"
     ]
    }
   ],
   "source": [
    "#6\n",
    "cost_of_meal=float((input(\"how much does your meal cost in dollar? \")))\n",
    "tax_amount = 0.1 * cost_of_meal\n",
    "tip_amount=0.18 * cost_of_meal\n",
    "grand_total =cost_of_meal+tax_amount+tip_amount\n",
    "print(f\"the tax ,tip and grant total for your meal is {tax_amount}$ ,{tip_amount}$ and {grand_total}$\")\n"
   ]
  },
  {
   "cell_type": "code",
   "execution_count": 10,
   "metadata": {},
   "outputs": [
    {
     "name": "stdout",
     "output_type": "stream",
     "text": [
      "Help on built-in function round in module builtins:\n",
      "\n",
      "round(number, ndigits=None)\n",
      "    Round a number to a given precision in decimal digits.\n",
      "    \n",
      "    The return value is an integer if ndigits is omitted or None.  Otherwise\n",
      "    the return value has the same type as the number.  ndigits may be negative.\n",
      "\n"
     ]
    }
   ],
   "source": [
    "help(\"round\")"
   ]
  },
  {
   "cell_type": "code",
   "execution_count": null,
   "metadata": {},
   "outputs": [],
   "source": []
  }
 ],
 "metadata": {
  "kernelspec": {
   "display_name": "Python 3",
   "language": "python",
   "name": "python3"
  },
  "language_info": {
   "codemirror_mode": {
    "name": "ipython",
    "version": 3
   },
   "file_extension": ".py",
   "mimetype": "text/x-python",
   "name": "python",
   "nbconvert_exporter": "python",
   "pygments_lexer": "ipython3",
   "version": "3.7.6"
  }
 },
 "nbformat": 4,
 "nbformat_minor": 4
}
